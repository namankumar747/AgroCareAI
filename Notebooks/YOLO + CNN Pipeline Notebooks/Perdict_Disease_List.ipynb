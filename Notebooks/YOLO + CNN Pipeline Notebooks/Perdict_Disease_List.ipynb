{
 "cells": [
  {
   "cell_type": "markdown",
   "id": "13f06de2",
   "metadata": {},
   "source": [
    "# 🧠 Predict Plant Diseases from Multi-Leaf Images (YOLOv8 + CNN)"
   ]
  },
  {
   "cell_type": "code",
   "execution_count": 4,
   "id": "b979aa15",
   "metadata": {},
   "outputs": [],
   "source": [
    "import cv2\n",
    "import numpy as np\n",
    "import os\n",
    "from ultralytics import YOLO\n",
    "import tensorflow as tf\n",
    "from tensorflow.keras.models import load_model"
   ]
  },
  {
   "cell_type": "code",
   "execution_count": 5,
   "id": "c5be0bb2",
   "metadata": {},
   "outputs": [],
   "source": [
    "# Load models\n",
    "cnn_model = load_model(\"trained_plant_disease_model.keras\")\n",
    "yolo_model = YOLO(\"yolov8n.pt\")"
   ]
  },
  {
   "cell_type": "code",
   "execution_count": 6,
   "id": "5f946fd1",
   "metadata": {},
   "outputs": [],
   "source": [
    "# Configuration\n",
    "CNN_INPUT_SIZE = (128, 128)\n",
    "labels = ['Apple___Apple_scab', 'Apple___Black_rot', 'Apple___Cedar_apple_rust', 'Apple___healthy', 'Blueberry___healthy', 'Cherry_(including_sour)___Powdery_mildew', 'Cherry_(including_sour)___healthy', 'Corn_(maize)___Cercospora_leaf_spot Gray_leaf_spot', 'Corn_(maize)___Common_rust_', 'Corn_(maize)___Northern_Leaf_Blight', 'Corn_(maize)___healthy', 'Grape___Black_rot', 'Grape___Esca_(Black_Measles)', 'Grape___Leaf_blight_(Isariopsis_Leaf_Spot)', 'Grape___healthy', 'Orange___Haunglongbing_(Citrus_greening)', 'Peach___Bacterial_spot', 'Peach___healthy', 'Pepper,_bell___Bacterial_spot', 'Pepper,_bell___healthy', 'Potato___Early_blight', 'Potato___Late_blight', 'Potato___healthy', 'Raspberry___healthy', 'Soybean___healthy', 'Squash___Powdery_mildew', 'Strawberry___Leaf_scorch', 'Strawberry___healthy', 'Tomato___Bacterial_spot', 'Tomato___Early_blight', 'Tomato___Late_blight', 'Tomato___Leaf_Mold', 'Tomato___Septoria_leaf_spot', 'Tomato___Spider_mites Two-spotted_spider_mite', 'Tomato___Target_Spot', 'Tomato___Tomato_Yellow_Leaf_Curl_Virus', 'Tomato___Tomato_mosaic_virus', 'Tomato___healthy']"
   ]
  },
  {
   "cell_type": "code",
   "execution_count": 7,
   "id": "a6452d11",
   "metadata": {},
   "outputs": [],
   "source": [
    "# Utility Functions\n",
    "def preprocess(image):\n",
    "    image = cv2.resize(image, CNN_INPUT_SIZE)\n",
    "    image = image / 255.0\n",
    "    image = np.expand_dims(image, axis=0)\n",
    "    return image\n",
    "\n",
    "def decode_prediction(pred):\n",
    "    class_idx = np.argmax(pred)\n",
    "    return labels[class_idx], float(pred[0][class_idx])"
   ]
  },
  {
   "cell_type": "code",
   "execution_count": 8,
   "id": "efc67d89",
   "metadata": {},
   "outputs": [],
   "source": [
    "def detect_diseases_from_image(image_path):\n",
    "    \"\"\"\n",
    "    Detects leaves/plants in the image and classifies disease for each.\n",
    "\n",
    "    Returns:\n",
    "        A list of dicts with 'leaf_index', 'disease', and 'confidence'.\n",
    "    \"\"\"\n",
    "    image = cv2.imread(image_path)\n",
    "    if image is None:\n",
    "        raise ValueError(f\"Image not found: {image_path}\")\n",
    "\n",
    "    results = yolo_model(image)\n",
    "\n",
    "    detected_diseases = []\n",
    "\n",
    "    for i, box in enumerate(results[0].boxes.xyxy):\n",
    "        x1, y1, x2, y2 = map(int, box)\n",
    "        leaf_crop = image[y1:y2, x1:x2]\n",
    "\n",
    "        if leaf_crop.size == 0:\n",
    "            continue\n",
    "\n",
    "        input_img = preprocess(leaf_crop)\n",
    "        prediction = cnn_model.predict(input_img, verbose=0)\n",
    "        label, confidence = decode_prediction(prediction)\n",
    "\n",
    "        detected_diseases.append({\n",
    "            'leaf_index': i + 1,\n",
    "            'disease': label,\n",
    "            'confidence': round(confidence, 4)\n",
    "        })\n",
    "\n",
    "    return detected_diseases"
   ]
  },
  {
   "cell_type": "code",
   "execution_count": null,
   "id": "1ba34ed5",
   "metadata": {},
   "outputs": [
    {
     "name": "stderr",
     "output_type": "stream",
     "text": [
      "\n",
      "0: 448x640 1 cup, 3 cakes, 106.8ms\n",
      "Speed: 8.0ms preprocess, 106.8ms inference, 2.4ms postprocess per image at shape (1, 3, 448, 640)\n"
     ]
    },
    {
     "name": "stdout",
     "output_type": "stream",
     "text": [
      "Leaf 1: Corn_(maize)___healthy (9.6%)\n",
      "Leaf 2: Corn_(maize)___healthy (9.1%)\n",
      "Leaf 3: Corn_(maize)___healthy (8.9%)\n",
      "Leaf 4: Squash___Powdery_mildew (9.0%)\n"
     ]
    }
   ],
   "source": [
    "result = detect_diseases_from_image(\"treating-brown-spots-on-leaves-5076039-01-b05c9ed7a44648adbee4c7d4bc2b2bab.jpg\")\n",
    "for r in result:\n",
    "    print(f\"Leaf {r['leaf_index']}: {r['disease']} ({r['confidence']*100:.1f}%)\")"
   ]
  }
 ],
 "metadata": {
  "kernelspec": {
   "display_name": "Python 3",
   "language": "python",
   "name": "python3"
  },
  "language_info": {
   "codemirror_mode": {
    "name": "ipython",
    "version": 3
   },
   "file_extension": ".py",
   "mimetype": "text/x-python",
   "name": "python",
   "nbconvert_exporter": "python",
   "pygments_lexer": "ipython3",
   "version": "3.9.23"
  }
 },
 "nbformat": 4,
 "nbformat_minor": 5
}
