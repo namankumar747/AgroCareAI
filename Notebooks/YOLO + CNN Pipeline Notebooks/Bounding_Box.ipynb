{
 "cells": [
  {
   "cell_type": "markdown",
   "id": "1fe63dc1",
   "metadata": {},
   "source": [
    "# Bounding Box Visualization of Leaf Diseases (YOLOv8 + .keras CNN)"
   ]
  },
  {
   "cell_type": "code",
   "execution_count": 1,
   "id": "7934e75d",
   "metadata": {},
   "outputs": [],
   "source": [
    "import cv2\n",
    "import numpy as np\n",
    "import os\n",
    "from ultralytics import YOLO\n",
    "import tensorflow as tf\n",
    "from tensorflow.keras.models import load_model"
   ]
  },
  {
   "cell_type": "code",
   "execution_count": null,
   "id": "43c5be0d",
   "metadata": {},
   "outputs": [],
   "source": [
    "# Load your trained CNN model (.keras format)\n",
    "cnn_model = load_model(\"/path/to/trained_plant_disease_model.keras\")"
   ]
  },
  {
   "cell_type": "code",
   "execution_count": 3,
   "id": "297998fa",
   "metadata": {},
   "outputs": [],
   "source": [
    "# Define preprocessing (adjust if needed based on your model's training)\n",
    "def preprocess(image):\n",
    "    image = cv2.resize(image, (128, 128))  # Match CNN input size\n",
    "    image = image / 255.0\n",
    "    image = np.expand_dims(image, axis=0)\n",
    "    return image"
   ]
  },
  {
   "cell_type": "code",
   "execution_count": 4,
   "id": "1605bcf7",
   "metadata": {},
   "outputs": [],
   "source": [
    "# Define label decoding (customize based on your model's output)\n",
    "labels =['Apple___Apple_scab', 'Apple___Black_rot', 'Apple___Cedar_apple_rust', 'Apple___healthy', 'Blueberry___healthy', 'Cherry_(including_sour)___Powdery_mildew', 'Cherry_(including_sour)___healthy', 'Corn_(maize)___Cercospora_leaf_spot Gray_leaf_spot', 'Corn_(maize)___Common_rust_', 'Corn_(maize)___Northern_Leaf_Blight', 'Corn_(maize)___healthy', 'Grape___Black_rot', 'Grape___Esca_(Black_Measles)', 'Grape___Leaf_blight_(Isariopsis_Leaf_Spot)', 'Grape___healthy', 'Orange___Haunglongbing_(Citrus_greening)', 'Peach___Bacterial_spot', 'Peach___healthy', 'Pepper,_bell___Bacterial_spot', 'Pepper,_bell___healthy', 'Potato___Early_blight', 'Potato___Late_blight', 'Potato___healthy', 'Raspberry___healthy', 'Soybean___healthy', 'Squash___Powdery_mildew', 'Strawberry___Leaf_scorch', 'Strawberry___healthy', 'Tomato___Bacterial_spot', 'Tomato___Early_blight', 'Tomato___Late_blight', 'Tomato___Leaf_Mold', 'Tomato___Septoria_leaf_spot', 'Tomato___Spider_mites Two-spotted_spider_mite', 'Tomato___Target_Spot', 'Tomato___Tomato_Yellow_Leaf_Curl_Virus', 'Tomato___Tomato_mosaic_virus', 'Tomato___healthy']"
   ]
  },
  {
   "cell_type": "code",
   "execution_count": 5,
   "id": "22e9004f",
   "metadata": {},
   "outputs": [],
   "source": [
    "def decode_prediction(pred):\n",
    "    class_idx = np.argmax(pred)\n",
    "    return labels[class_idx], float(pred[0][class_idx])"
   ]
  },
  {
   "cell_type": "code",
   "execution_count": 6,
   "id": "26cfe0a1",
   "metadata": {},
   "outputs": [],
   "source": [
    "yolo_model = YOLO(\"yolov8n.pt\")"
   ]
  },
  {
   "cell_type": "code",
   "execution_count": null,
   "id": "a2af8959",
   "metadata": {},
   "outputs": [],
   "source": [
    "# Read input image with multiple leaves\n",
    "image_path = \"/path/to/uav_image_for_testing.jpg\"\n",
    "image = cv2.imread(image_path)"
   ]
  },
  {
   "cell_type": "code",
   "execution_count": 23,
   "id": "f6d3f4ed",
   "metadata": {},
   "outputs": [
    {
     "name": "stderr",
     "output_type": "stream",
     "text": [
      "\n",
      "0: 448x640 1 cup, 3 cakes, 235.3ms\n",
      "Speed: 5.3ms preprocess, 235.3ms inference, 11.6ms postprocess per image at shape (1, 3, 448, 640)\n"
     ]
    }
   ],
   "source": [
    "# Run object detection\n",
    "results = yolo_model(image)"
   ]
  },
  {
   "cell_type": "code",
   "execution_count": 24,
   "id": "e5d925b3",
   "metadata": {},
   "outputs": [],
   "source": [
    "# Make directory for crops if needed\n",
    "os.makedirs(\"leaf_crops\", exist_ok=True)"
   ]
  },
  {
   "cell_type": "code",
   "execution_count": 25,
   "id": "17bc15cb",
   "metadata": {},
   "outputs": [
    {
     "name": "stdout",
     "output_type": "stream",
     "text": [
      "1/1 [==============================] - 0s 47ms/step\n",
      "1/1 [==============================] - 0s 49ms/step\n",
      "1/1 [==============================] - 0s 43ms/step\n",
      "1/1 [==============================] - 0s 45ms/step\n"
     ]
    }
   ],
   "source": [
    "# For each detection box\n",
    "for i, box in enumerate(results[0].boxes.xyxy):\n",
    "    x1, y1, x2, y2 = map(int, box)\n",
    "    leaf_crop = image[y1:y2, x1:x2]\n",
    "\n",
    "    # Save optional crop\n",
    "    crop_path = f\"leaf_crops/leaf_{i+1}.jpg\"\n",
    "    cv2.imwrite(crop_path, leaf_crop)\n",
    "\n",
    "    # Preprocess and predict with CNN\n",
    "    input_img = preprocess(leaf_crop)\n",
    "    prediction = cnn_model.predict(input_img)\n",
    "    label, confidence = decode_prediction(prediction)\n",
    "\n",
    "    # Draw result on image\n",
    "    cv2.rectangle(image, (x1, y1), (x2, y2), (0, 255, 0), 2)\n",
    "    cv2.putText(image, f\"{label} ({confidence*100:.1f}%)\", (x1, y1 - 10),\n",
    "                cv2.FONT_HERSHEY_SIMPLEX, 0.6, (255, 0, 0), 2)"
   ]
  },
  {
   "cell_type": "code",
   "execution_count": 26,
   "id": "10fcc706",
   "metadata": {},
   "outputs": [
    {
     "data": {
      "text/plain": [
       "True"
      ]
     },
     "execution_count": 26,
     "metadata": {},
     "output_type": "execute_result"
    }
   ],
   "source": [
    "# Save annotated image\n",
    "cv2.imwrite(\"detected_and_classified.jpg\", image)"
   ]
  }
 ],
 "metadata": {
  "kernelspec": {
   "display_name": "Python 3",
   "language": "python",
   "name": "python3"
  },
  "language_info": {
   "codemirror_mode": {
    "name": "ipython",
    "version": 3
   },
   "file_extension": ".py",
   "mimetype": "text/x-python",
   "name": "python",
   "nbconvert_exporter": "python",
   "pygments_lexer": "ipython3",
   "version": "3.9.23"
  }
 },
 "nbformat": 4,
 "nbformat_minor": 5
}
